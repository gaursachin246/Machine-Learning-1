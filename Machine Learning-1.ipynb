{
 "cells": [
  {
   "cell_type": "code",
   "execution_count": 2,
   "id": "76776b7b-f8fb-4140-a1a6-4a64a876dd25",
   "metadata": {},
   "outputs": [],
   "source": [
    "#### Q1- E=plain thK followin* with an K=amplK-F\n",
    "#1 Artificial intelligence \n",
    "#2 Machin learning\n",
    "#3 deep learning\n",
    "\n",
    "#A) Artificial Intelligence (AI)\n",
    "#Artificial Intelligence is a broad field in computer science focused on creating systems capable of performing tasks that typically require human intelligence. These tasks include understanding natural language, recognizing patterns, solving problems, and making decisions.\n",
    "\n",
    "#Example: A virtual assistant like Siri or Alexa is a form of AI. It can understand spoken commands, perform tasks like setting reminders or playing music, and even have conversations with users.\n",
    "\n",
    "#B) Machine Learning (ML)\n",
    "#Machine Learning is a subset of AI that involves training algorithms on data so they can learn and make predictions or decisions without being explicitly programmed for every specific task. The key idea is that the system improves its performance as it processes more data.\n",
    "\n",
    "#Example: An email spam filter is an application of machine learning. It learns to identify which emails are likely to be spam based on patterns in the data (e.g., certain keywords, sender addresses) and then automatically sorts new emails into spam or inbox.\n",
    "\n",
    "#C) Deep Learning (DL)\n",
    "#Deep Learning is a specialized area within machine learning that uses neural networks with many layers (hence \"deep\") to analyze complex patterns in large amounts of data. Deep learning models are particularly effective for tasks like image and speech recognition."
   ]
  },
  {
   "cell_type": "code",
   "execution_count": 3,
   "id": "3cc0863e-c7ac-48d5-8a18-e1218cff8ede",
   "metadata": {},
   "outputs": [],
   "source": [
    "### Q2- What is supKrvisKd lKarnin*? List somK K=amplKs of supKrvisKd lKarnin*.\n",
    "\n",
    "##I believe you meant to ask \"What is supervised learning?\"\n",
    "\n",
    "# Supervised learning is a type of machine learning where the algorithm is trained on labeled data, meaning the data is already annotated with the correct output. The goal is to learn a mapping between input data and output labels, so the algorithm can make accurate predictions on new, unseen data"
   ]
  },
  {
   "cell_type": "code",
   "execution_count": 4,
   "id": "62acac09-9210-4094-8156-37d4e0be0e9d",
   "metadata": {},
   "outputs": [],
   "source": [
    "### Q3- GWhat is unsupKrvisKd lKarnin*? List somK K=amplKs of unsupKrvisKd lKarnin*.\n",
    "\n",
    "#Unsupervised learning is a type of machine learning where the algorithm is trained on unlabeled data, meaning the data doesn't have any correct output or labels. The goal is to discover patterns, relationships, or structure in the data, without prior knowledge of the expected output.\n",
    "\n",
    "#Examples:\n",
    "\n",
    "#Clustering: Grouping customers into segments based on purchasing behavior.\n",
    "#Dimensionality Reduction: Reducing the number of features in a dataset, like using PCA to simplify data while retaining its variance.\n",
    "#Anomaly Detection: Identifying unusual patterns in data, such as detecting fraudulent transactions.\n"
   ]
  },
  {
   "cell_type": "code",
   "execution_count": 6,
   "id": "295d8e57-ab01-4747-805f-a0dbdf049189",
   "metadata": {},
   "outputs": [],
   "source": [
    "### Q4- What is thK different  between  AI, ML, DL, and DS?\n",
    "\n",
    "#AI (Artificial Intelligence): The broad field focused on mimicking human intelligence.\n",
    "#ML (Machine Learning): A subset of AI focused on algorithms that learn from data.\n",
    "#DL (Deep Learning): A specialized area within ML using deep neural networks for complex tasks.\n",
    "#DS (Data Science): An interdisciplinary field that uses data analysis, statistical methods, and ML to derive insights from data."
   ]
  },
  {
   "cell_type": "code",
   "execution_count": 7,
   "id": "10a044dc-89db-4dea-bc72-b3b34166acda",
   "metadata": {},
   "outputs": [],
   "source": [
    "#### Q5- What arK thK main diffKrKncKs bKtwKKn supKrvisKd, unsupKrvisKd, and sKmi-supKrvisKd lKarnin*?\n",
    "\n",
    "#Here are the main differences between supervised, unsupervised, and semi-supervised learning:\n",
    "\n",
    "#Supervised Learning:\n",
    "\n",
    "#- Labeled data: Training data includes input-output pairs, where the output is already known.\n",
    "#- Goal: Learn a mapping between input data and output labels, to make accurate predictions on new data.\n",
    "#- Example: Image classification, where images are labeled as \"cats\" or \"dogs\".\n",
    "\n",
    "#Unsupervised Learning:\n",
    "\n",
    "#- Unlabeled data: Training data doesn't include output labels.\n",
    "#- Goal: Discover patterns, relationships, or structure in the data, without prior knowledge of the expected output.\n",
    "#- Example: Clustering customers based on buying behavior, without knowing the expected outcome.\n",
    "\n",
    "#Semi-Supervised Learning:\n",
    "\n",
    "#- Partially labeled data: Training data includes a mix of labeled and unlabeled examples.\n",
    "#- Goal: Use the labeled data to guide the learning process, while also leveraging the structure in the unlabeled data.\n",
    "#- Example: Training a speech recognition model with a small amount of labeled audio data, and a large amount of unlabeled audio data.\n"
   ]
  },
  {
   "cell_type": "code",
   "execution_count": 8,
   "id": "28af9abb-630c-4490-9b5b-6dcc0bf2a068",
   "metadata": {},
   "outputs": [],
   "source": [
    "#### Q6- What is train, tKst and validation split? E=plain thK importancK of Kach tKrm.\n",
    "\n",
    "##In machine learning, a dataset is typically split into three parts:\n",
    "\n",
    "#1. Training set (Train): Used to train the model, this is the largest portion of the dataset (usually 60-80%). The model learns patterns and relationships from this data.\n",
    "\n",
    "#2. Validation set (Validation): Used to evaluate the model's performance during training, this set is used to tune hyperparameters and avoid overfitting (usually 15-20%). The model is not trained on this data, but its performance is monitored.\n",
    "\n",
    "#3. Testing set (Test): Used to evaluate the final model's performance, this set is used to estimate how well the model will perform on unseen data (usually 5-10%). The model is not trained or validated on this data."
   ]
  },
  {
   "cell_type": "code",
   "execution_count": 9,
   "id": "68a184c4-3ca6-4995-bee1-ec7e0dec2925",
   "metadata": {},
   "outputs": [],
   "source": [
    "####Q7- How can unsupKrvisKd lKarnin* bK usKd in anomaly dKtKction?\n",
    "\n",
    "#Model Training: Use algorithms to learn the general distribution and structure of the normal data. Techniques like clustering (e.g., k-means) or dimensionality reduction (e.g., PCA) are common.\n",
    "\n",
    "#Anomaly Identification: After training, new data points are compared against the learned patterns. Points that fall outside the expected distribution or cluster significantly are flagged as anomalies."
   ]
  },
  {
   "cell_type": "code",
   "execution_count": null,
   "id": "2789385d-8503-405d-ab95-82c27313f837",
   "metadata": {},
   "outputs": [],
   "source": [
    "###"
   ]
  }
 ],
 "metadata": {
  "kernelspec": {
   "display_name": "Python 3 (ipykernel)",
   "language": "python",
   "name": "python3"
  },
  "language_info": {
   "codemirror_mode": {
    "name": "ipython",
    "version": 3
   },
   "file_extension": ".py",
   "mimetype": "text/x-python",
   "name": "python",
   "nbconvert_exporter": "python",
   "pygments_lexer": "ipython3",
   "version": "3.10.8"
  }
 },
 "nbformat": 4,
 "nbformat_minor": 5
}
